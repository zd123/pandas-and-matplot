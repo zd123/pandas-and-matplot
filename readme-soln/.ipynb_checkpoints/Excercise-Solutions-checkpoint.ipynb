{
 "metadata": {
  "name": "",
  "signature": "sha256:7a177b6183a88ae1b6951fdb4e3a8c5682effc645411399aa2fe14397f3cb895"
 },
 "nbformat": 3,
 "nbformat_minor": 0,
 "worksheets": [
  {
   "cells": [
    {
     "cell_type": "code",
     "collapsed": false,
     "input": [
      "import pandas as pd\n",
      "df = pd.read_csv(\"../data/hospital-costs.csv\")"
     ],
     "language": "python",
     "metadata": {},
     "outputs": [],
     "prompt_number": 61
    },
    {
     "cell_type": "heading",
     "level": 1,
     "metadata": {},
     "source": [
      "Count that CASH"
     ]
    },
    {
     "cell_type": "code",
     "collapsed": false,
     "input": [
      "df['Total Charge'] = df['Discharges'] * df['Mean Charge']\n",
      "df['Total Cost'] = df['Discharges'] * df['Mean Cost']\n",
      "df['Markup'] = df['Total Charge'] / df['Total Cost']\n",
      "df.sort(\"Markup\").head(1)\n",
      "df.sort(\"Markup\").tail(1)"
     ],
     "language": "python",
     "metadata": {},
     "outputs": [
      {
       "html": [
        "<div style=\"max-height:1000px;max-width:1500px;overflow:auto;\">\n",
        "<table border=\"1\" class=\"dataframe\">\n",
        "  <thead>\n",
        "    <tr style=\"text-align: right;\">\n",
        "      <th></th>\n",
        "      <th>Year</th>\n",
        "      <th>Facility Id</th>\n",
        "      <th>Facility Name</th>\n",
        "      <th>APR DRG Code</th>\n",
        "      <th>APR Severity of Illness Code</th>\n",
        "      <th>APR DRG Description</th>\n",
        "      <th>APR Severity of Illness Description</th>\n",
        "      <th>APR Medical Surgical Code</th>\n",
        "      <th>APR Medical Surgical Description</th>\n",
        "      <th>Discharges</th>\n",
        "      <th>Mean Charge</th>\n",
        "      <th>Median Charge</th>\n",
        "      <th>Mean Cost</th>\n",
        "      <th>Median Cost</th>\n",
        "      <th>Total Charge</th>\n",
        "      <th>Total Cost</th>\n",
        "      <th>Markup</th>\n",
        "    </tr>\n",
        "  </thead>\n",
        "  <tbody>\n",
        "    <tr>\n",
        "      <th>111925</th>\n",
        "      <td> 2011</td>\n",
        "      <td> 1302</td>\n",
        "      <td> SUNY Downstate Medical Center at LICH</td>\n",
        "      <td> 614</td>\n",
        "      <td> 1</td>\n",
        "      <td> Neonate Bwt 1500-1999G W Or W/O Other Signific...</td>\n",
        "      <td> Minor</td>\n",
        "      <td> M</td>\n",
        "      <td> Medical</td>\n",
        "      <td> 2</td>\n",
        "      <td> 21544</td>\n",
        "      <td> 21544</td>\n",
        "      <td> 1034</td>\n",
        "      <td> 1034</td>\n",
        "      <td> 43088</td>\n",
        "      <td> 2068</td>\n",
        "      <td> 20.83559</td>\n",
        "    </tr>\n",
        "  </tbody>\n",
        "</table>\n",
        "</div>"
       ],
       "metadata": {},
       "output_type": "pyout",
       "prompt_number": 45,
       "text": [
        "        Year  Facility Id                          Facility Name  \\\n",
        "111925  2011         1302  SUNY Downstate Medical Center at LICH   \n",
        "\n",
        "        APR DRG Code  APR Severity of Illness Code  \\\n",
        "111925           614                             1   \n",
        "\n",
        "                                      APR DRG Description  \\\n",
        "111925  Neonate Bwt 1500-1999G W Or W/O Other Signific...   \n",
        "\n",
        "       APR Severity of Illness Description APR Medical Surgical Code  \\\n",
        "111925                               Minor                         M   \n",
        "\n",
        "       APR Medical Surgical Description  Discharges  Mean Charge  \\\n",
        "111925                          Medical           2        21544   \n",
        "\n",
        "        Median Charge  Mean Cost  Median Cost  Total Charge  Total Cost  \\\n",
        "111925          21544       1034         1034         43088        2068   \n",
        "\n",
        "          Markup  \n",
        "111925  20.83559  "
       ]
      }
     ],
     "prompt_number": 45
    },
    {
     "cell_type": "heading",
     "level": 1,
     "metadata": {},
     "source": [
      "Find That Money"
     ]
    },
    {
     "cell_type": "code",
     "collapsed": false,
     "input": [
      "hospitalCharges = df['Total Charge'].groupby(df['Facility Name']).sum()\n",
      "hospitalCosts = df['Total Cost'].groupby(df['Facility Name']).sum()\n",
      "\n",
      "net = df[['Total Charge', 'Total Cost']].groupby(df['Facility Name']).sum()\n",
      "net['Net Income'] = net['Total Charge'] - net[\"Total Cost\"]\n",
      "net.head()"
     ],
     "language": "python",
     "metadata": {},
     "outputs": [
      {
       "html": [
        "<div style=\"max-height:1000px;max-width:1500px;overflow:auto;\">\n",
        "<table border=\"1\" class=\"dataframe\">\n",
        "  <thead>\n",
        "    <tr style=\"text-align: right;\">\n",
        "      <th></th>\n",
        "      <th>Total Charge</th>\n",
        "      <th>Total Cost</th>\n",
        "      <th>Net Income</th>\n",
        "    </tr>\n",
        "    <tr>\n",
        "      <th>Facility Name</th>\n",
        "      <th></th>\n",
        "      <th></th>\n",
        "      <th></th>\n",
        "    </tr>\n",
        "  </thead>\n",
        "  <tbody>\n",
        "    <tr>\n",
        "      <th>Adirondack Medical Center-Saranac Lake Site</th>\n",
        "      <td>  141573499</td>\n",
        "      <td>   77427664</td>\n",
        "      <td>   64145835</td>\n",
        "    </tr>\n",
        "    <tr>\n",
        "      <th>Albany Medical Center - South Clinical Campus</th>\n",
        "      <td>    1802808</td>\n",
        "      <td>    1432784</td>\n",
        "      <td>     370024</td>\n",
        "    </tr>\n",
        "    <tr>\n",
        "      <th>Albany Medical Center Hospital</th>\n",
        "      <td> 3763945310</td>\n",
        "      <td> 1336298908</td>\n",
        "      <td> 2427646402</td>\n",
        "    </tr>\n",
        "    <tr>\n",
        "      <th>Albany Memorial Hospital</th>\n",
        "      <td>  221974029</td>\n",
        "      <td>   94907174</td>\n",
        "      <td>  127066855</td>\n",
        "    </tr>\n",
        "    <tr>\n",
        "      <th>Alice Hyde Medical Center</th>\n",
        "      <td>   87237972</td>\n",
        "      <td>   41058820</td>\n",
        "      <td>   46179152</td>\n",
        "    </tr>\n",
        "  </tbody>\n",
        "</table>\n",
        "</div>"
       ],
       "metadata": {},
       "output_type": "pyout",
       "prompt_number": 46,
       "text": [
        "                                               Total Charge  Total Cost  \\\n",
        "Facility Name                                                             \n",
        "Adirondack Medical Center-Saranac Lake Site       141573499    77427664   \n",
        "Albany Medical Center - South Clinical Campus       1802808     1432784   \n",
        "Albany Medical Center Hospital                   3763945310  1336298908   \n",
        "Albany Memorial Hospital                          221974029    94907174   \n",
        "Alice Hyde Medical Center                          87237972    41058820   \n",
        "\n",
        "                                               Net Income  \n",
        "Facility Name                                              \n",
        "Adirondack Medical Center-Saranac Lake Site      64145835  \n",
        "Albany Medical Center - South Clinical Campus      370024  \n",
        "Albany Medical Center Hospital                 2427646402  \n",
        "Albany Memorial Hospital                        127066855  \n",
        "Alice Hyde Medical Center                        46179152  "
       ]
      }
     ],
     "prompt_number": 46
    },
    {
     "cell_type": "markdown",
     "metadata": {},
     "source": [
      "### FIND MOST POPULAR SICKNESS"
     ]
    },
    {
     "cell_type": "code",
     "collapsed": false,
     "input": [
      "###  FIND THE MOST DISCHARGES\n",
      "import pandas as pd\n",
      "df = pd.read_csv(\"../data/hospital-costs.csv\")\n",
      "\n",
      "df['Total Charge'] = df['Discharges'] * df['Mean Charge']\n",
      "df['Total Cost'] = df['Discharges'] * df['Mean Cost']\n",
      "df['Markup'] = df['Total Charge'] / df['Total Cost']\n",
      "df.sort(\"Markup\").head(1)\n",
      "df.sort(\"Markup\").tail(1)\n",
      "\n",
      "mostpop = df.groupby('APR DRG Description')['Discharges', 'Total Charge', 'Total Cost'].sum()\n",
      "mostpop.sort('Discharges', \\\n",
      "             ascending=False).head(1)"
     ],
     "language": "python",
     "metadata": {},
     "outputs": [
      {
       "html": [
        "<div style=\"max-height:1000px;max-width:1500px;overflow:auto;\">\n",
        "<table border=\"1\" class=\"dataframe\">\n",
        "  <thead>\n",
        "    <tr style=\"text-align: right;\">\n",
        "      <th></th>\n",
        "      <th>Discharges</th>\n",
        "      <th>Total Charge</th>\n",
        "      <th>Total Cost</th>\n",
        "    </tr>\n",
        "    <tr>\n",
        "      <th>APR DRG Description</th>\n",
        "      <th></th>\n",
        "      <th></th>\n",
        "      <th></th>\n",
        "    </tr>\n",
        "  </thead>\n",
        "  <tbody>\n",
        "    <tr>\n",
        "      <th>Neonate Birthwt &gt;2499G, Normal Newborn Or Neonate W Other Problem</th>\n",
        "      <td> 632412</td>\n",
        "      <td> 2956415168</td>\n",
        "      <td> 1168223473</td>\n",
        "    </tr>\n",
        "  </tbody>\n",
        "</table>\n",
        "</div>"
       ],
       "metadata": {},
       "output_type": "pyout",
       "prompt_number": 62,
       "text": [
        "                                                                   Discharges  \\\n",
        "APR DRG Description                                                             \n",
        "Neonate Birthwt >2499G, Normal Newborn Or Neonate W Other Problem      632412   \n",
        "\n",
        "                                                                   Total Charge  \\\n",
        "APR DRG Description                                                               \n",
        "Neonate Birthwt >2499G, Normal Newborn Or Neonate W Other Problem    2956415168   \n",
        "\n",
        "                                                                   Total Cost  \n",
        "APR DRG Description                                                            \n",
        "Neonate Birthwt >2499G, Normal Newborn Or Neonate W Other Problem  1168223473  "
       ]
      }
     ],
     "prompt_number": 62
    },
    {
     "cell_type": "code",
     "collapsed": false,
     "input": [
      "### FIND THE ILLNESS THAT  WAS CHARGED THE MOST (*AMOUNT CHARGED) \n",
      "\n",
      "mostpop.sort('Total Charge', ascending=False).head(1)"
     ],
     "language": "python",
     "metadata": {},
     "outputs": [
      {
       "html": [
        "<div style=\"max-height:1000px;max-width:1500px;overflow:auto;\">\n",
        "<table border=\"1\" class=\"dataframe\">\n",
        "  <thead>\n",
        "    <tr style=\"text-align: right;\">\n",
        "      <th></th>\n",
        "      <th>Discharges</th>\n",
        "      <th>Total Charge</th>\n",
        "      <th>Total Cost</th>\n",
        "    </tr>\n",
        "    <tr>\n",
        "      <th>APR DRG Description</th>\n",
        "      <th></th>\n",
        "      <th></th>\n",
        "      <th></th>\n",
        "    </tr>\n",
        "  </thead>\n",
        "  <tbody>\n",
        "    <tr>\n",
        "      <th>Septicemia &amp; Disseminated Infections</th>\n",
        "      <td> 161739</td>\n",
        "      <td> 8182068670</td>\n",
        "      <td> 3180766286</td>\n",
        "    </tr>\n",
        "  </tbody>\n",
        "</table>\n",
        "</div>"
       ],
       "metadata": {},
       "output_type": "pyout",
       "prompt_number": 48,
       "text": [
        "                                      Discharges  Total Charge  Total Cost\n",
        "APR DRG Description                                                       \n",
        "Septicemia & Disseminated Infections      161739    8182068670  3180766286"
       ]
      }
     ],
     "prompt_number": 48
    },
    {
     "cell_type": "code",
     "collapsed": false,
     "input": [
      "# 8182068670  > 2956415168 "
     ],
     "language": "python",
     "metadata": {},
     "outputs": [],
     "prompt_number": 36
    },
    {
     "cell_type": "code",
     "collapsed": false,
     "input": [
      "df = pd.read_csv(\"../data/hospital-costs.csv\")\n",
      "\n",
      "# 1: Create a new dataframe that only contains the data corresponding to \"Viral Meningitis\"\n",
      "newdf = df[df[\"APR DRG Description\"] == \"Viral Meningitis\"]\n",
      "\n",
      "# 2: Now, with our newdf, only keep the data columns we care about...\n",
      "newdf = newdf[[\"Facility Name\", \"APR DRG Description\",\"Discharges\", \"Mean Charge\", \"Median Charge\", \"Mean Cost\"]]\n",
      "\n",
      "# 3: Our newdf should look somewhat like this:\n",
      "newdf.sort('Discharges', ascending=False).head(2)"
     ],
     "language": "python",
     "metadata": {},
     "outputs": [
      {
       "html": [
        "<div style=\"max-height:1000px;max-width:1500px;overflow:auto;\">\n",
        "<table border=\"1\" class=\"dataframe\">\n",
        "  <thead>\n",
        "    <tr style=\"text-align: right;\">\n",
        "      <th></th>\n",
        "      <th>Facility Name</th>\n",
        "      <th>APR DRG Description</th>\n",
        "      <th>Discharges</th>\n",
        "      <th>Mean Charge</th>\n",
        "      <th>Median Charge</th>\n",
        "      <th>Mean Cost</th>\n",
        "    </tr>\n",
        "  </thead>\n",
        "  <tbody>\n",
        "    <tr>\n",
        "      <th>73590</th>\n",
        "      <td>        North Shore University Hospital</td>\n",
        "      <td> Viral Meningitis</td>\n",
        "      <td> 34</td>\n",
        "      <td> 25703</td>\n",
        "      <td> 23285</td>\n",
        "      <td> 5455</td>\n",
        "    </tr>\n",
        "    <tr>\n",
        "      <th>31399</th>\n",
        "      <td> Good Samaritan Hospital Medical Center</td>\n",
        "      <td> Viral Meningitis</td>\n",
        "      <td> 33</td>\n",
        "      <td> 18554</td>\n",
        "      <td> 16488</td>\n",
        "      <td> 6560</td>\n",
        "    </tr>\n",
        "  </tbody>\n",
        "</table>\n",
        "</div>"
       ],
       "metadata": {},
       "output_type": "pyout",
       "prompt_number": 58,
       "text": [
        "                                Facility Name APR DRG Description  Discharges  \\\n",
        "73590         North Shore University Hospital    Viral Meningitis          34   \n",
        "31399  Good Samaritan Hospital Medical Center    Viral Meningitis          33   \n",
        "\n",
        "       Mean Charge  Median Charge  Mean Cost  \n",
        "73590        25703          23285       5455  \n",
        "31399        18554          16488       6560  "
       ]
      }
     ],
     "prompt_number": 58
    },
    {
     "cell_type": "code",
     "collapsed": false,
     "input": [
      "# Find if there is a correlation between the severity of case, and the mean charge\n",
      "df = pd.read_csv(\"../data/hospital-costs.csv\")\n",
      "grouped = df.groupby(\"APR Severity of Illness Description\")\n",
      "x = grouped[[\"APR Severity of Illness Code\",\"Mean Charge\"]].mean()\n",
      "x = x.reset_index()\n",
      "x[[\"APR Severity of Illness Code\",\"Mean Charge\"]].corr()"
     ],
     "language": "python",
     "metadata": {},
     "outputs": [
      {
       "html": [
        "<div style=\"max-height:1000px;max-width:1500px;overflow:auto;\">\n",
        "<table border=\"1\" class=\"dataframe\">\n",
        "  <thead>\n",
        "    <tr style=\"text-align: right;\">\n",
        "      <th></th>\n",
        "      <th>APR Severity of Illness Description</th>\n",
        "      <th>APR Severity of Illness Code</th>\n",
        "      <th>Mean Charge</th>\n",
        "    </tr>\n",
        "  </thead>\n",
        "  <tbody>\n",
        "    <tr>\n",
        "      <th>0</th>\n",
        "      <td>  Extreme</td>\n",
        "      <td> 4</td>\n",
        "      <td> 95914.147117</td>\n",
        "    </tr>\n",
        "    <tr>\n",
        "      <th>1</th>\n",
        "      <td>    Major</td>\n",
        "      <td> 3</td>\n",
        "      <td> 43660.335995</td>\n",
        "    </tr>\n",
        "    <tr>\n",
        "      <th>2</th>\n",
        "      <td>    Minor</td>\n",
        "      <td> 1</td>\n",
        "      <td> 18428.965923</td>\n",
        "    </tr>\n",
        "    <tr>\n",
        "      <th>3</th>\n",
        "      <td> Moderate</td>\n",
        "      <td> 2</td>\n",
        "      <td> 26413.487101</td>\n",
        "    </tr>\n",
        "  </tbody>\n",
        "</table>\n",
        "</div>"
       ],
       "metadata": {},
       "output_type": "pyout",
       "prompt_number": 57,
       "text": [
        "  APR Severity of Illness Description  APR Severity of Illness Code  \\\n",
        "0                             Extreme                             4   \n",
        "1                               Major                             3   \n",
        "2                               Minor                             1   \n",
        "3                            Moderate                             2   \n",
        "\n",
        "    Mean Charge  \n",
        "0  95914.147117  \n",
        "1  43660.335995  \n",
        "2  18428.965923  \n",
        "3  26413.487101  "
       ]
      }
     ],
     "prompt_number": 57
    },
    {
     "cell_type": "code",
     "collapsed": false,
     "input": [],
     "language": "python",
     "metadata": {},
     "outputs": []
    }
   ],
   "metadata": {}
  }
 ]
}